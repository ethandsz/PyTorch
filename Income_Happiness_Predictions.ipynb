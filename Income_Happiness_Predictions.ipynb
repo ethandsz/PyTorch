{
  "nbformat": 4,
  "nbformat_minor": 0,
  "metadata": {
    "colab": {
      "name": "Income-Happiness Predictions.ipynb",
      "provenance": [],
      "authorship_tag": "ABX9TyM6kPFf2+8K1afUb26mC01T",
      "include_colab_link": true
    },
    "kernelspec": {
      "name": "python3",
      "display_name": "Python 3"
    },
    "language_info": {
      "name": "python"
    }
  },
  "cells": [
    {
      "cell_type": "markdown",
      "metadata": {
        "id": "view-in-github",
        "colab_type": "text"
      },
      "source": [
        "<a href=\"https://colab.research.google.com/github/ethandsz/PyTorch/blob/main/Income_Happiness_Predictions.ipynb\" target=\"_parent\"><img src=\"https://colab.research.google.com/assets/colab-badge.svg\" alt=\"Open In Colab\"/></a>"
      ]
    },
    {
      "cell_type": "code",
      "metadata": {
        "id": "hMWhiploDDdM"
      },
      "source": [
        "import numpy as np\n",
        "import torch"
      ],
      "execution_count": 122,
      "outputs": []
    },
    {
      "cell_type": "code",
      "metadata": {
        "id": "XNb5Q3PLECSw"
      },
      "source": [
        "inputs = np.array([[3.86264741839841], [4.97938138246536],\n",
        "                  [4.9239569362253],[3.21437243884429],\n",
        "                  [7.19640925107524], [3.72964347945526],\n",
        "                  [4.67451738892123], [4.49810382071882],\n",
        "                  [3.12163052614778], [4.6399144353345]],\n",
        "                  dtype = \"float32\")\n",
        "targets = np.array([[2.31448898284741], [3.43348975853174],\n",
        "                   [4.59937340433575], [2.79111380280692],\n",
        "                    [5.59639827336202], [2.45855587216119],\n",
        "                    [3.19299180946247],[1.90713683309599],\n",
        "                    [2.94244987165905], [3.73794160485342]],\n",
        "                   dtype = \"float32\")\n",
        "inputs = torch.from_numpy(inputs)\n",
        "targets = torch.from_numpy(targets)\n"
      ],
      "execution_count": 123,
      "outputs": []
    },
    {
      "cell_type": "code",
      "metadata": {
        "id": "TIMB_XJzFtw7"
      },
      "source": [
        "from torch.utils.data import TensorDataset"
      ],
      "execution_count": 12,
      "outputs": []
    },
    {
      "cell_type": "code",
      "metadata": {
        "colab": {
          "base_uri": "https://localhost:8080/"
        },
        "id": "LwuQhgolFyoE",
        "outputId": "33a7468b-7978-4401-a0e9-e60f1d90b774"
      },
      "source": [
        "train_ds = TensorDataset(inputs, targets)\n",
        "train_ds[0:3]"
      ],
      "execution_count": 124,
      "outputs": [
        {
          "output_type": "execute_result",
          "data": {
            "text/plain": [
              "(tensor([[3.8626],\n",
              "         [4.9794],\n",
              "         [4.9240]]), tensor([[2.3145],\n",
              "         [3.4335],\n",
              "         [4.5994]]))"
            ]
          },
          "metadata": {},
          "execution_count": 124
        }
      ]
    },
    {
      "cell_type": "code",
      "metadata": {
        "id": "bpeVSLEAGBcv"
      },
      "source": [
        "from torch.utils.data import DataLoader"
      ],
      "execution_count": 125,
      "outputs": []
    },
    {
      "cell_type": "code",
      "metadata": {
        "id": "t7k62IjwGF3U"
      },
      "source": [
        "batch_size = 3\n",
        "train_dl = DataLoader(train_ds, batch_size, shuffle = True)"
      ],
      "execution_count": 126,
      "outputs": []
    },
    {
      "cell_type": "code",
      "metadata": {
        "colab": {
          "base_uri": "https://localhost:8080/"
        },
        "id": "9dpWF0PxGk2C",
        "outputId": "4a7d890d-5a84-4d5a-9359-7b862bc1e1fe"
      },
      "source": [
        "for xy, yx in train_dl:\n",
        "  print(xy)\n",
        "  print(yx)\n",
        "  break"
      ],
      "execution_count": 127,
      "outputs": [
        {
          "output_type": "stream",
          "name": "stdout",
          "text": [
            "tensor([[7.1964],\n",
            "        [3.7296],\n",
            "        [4.9240]])\n",
            "tensor([[5.5964],\n",
            "        [2.4586],\n",
            "        [4.5994]])\n"
          ]
        }
      ]
    },
    {
      "cell_type": "code",
      "metadata": {
        "id": "c7H4I85LHaao"
      },
      "source": [
        "import torch.nn as nn"
      ],
      "execution_count": 128,
      "outputs": []
    },
    {
      "cell_type": "code",
      "metadata": {
        "colab": {
          "base_uri": "https://localhost:8080/"
        },
        "id": "1NVggITCHSpJ",
        "outputId": "1f5e6433-ade9-44f0-e58e-9a1dad2d9fd5"
      },
      "source": [
        "model = nn.Linear(1,1)\n",
        "list(model.parameters())"
      ],
      "execution_count": 140,
      "outputs": [
        {
          "output_type": "execute_result",
          "data": {
            "text/plain": [
              "[Parameter containing:\n",
              " tensor([[-0.6962]], requires_grad=True), Parameter containing:\n",
              " tensor([-0.4930], requires_grad=True)]"
            ]
          },
          "metadata": {},
          "execution_count": 140
        }
      ]
    },
    {
      "cell_type": "code",
      "metadata": {
        "colab": {
          "base_uri": "https://localhost:8080/"
        },
        "id": "bTvQ5Q7GHpan",
        "outputId": "9c0b9220-26fb-4b49-a4ec-a3a6a96ea650"
      },
      "source": [
        "preds = model(inputs)\n",
        "print(preds)\n",
        "print(targets)"
      ],
      "execution_count": 141,
      "outputs": [
        {
          "output_type": "stream",
          "name": "stdout",
          "text": [
            "tensor([[-3.1820],\n",
            "        [-3.9594],\n",
            "        [-3.9209],\n",
            "        [-2.7307],\n",
            "        [-5.5028],\n",
            "        [-3.0894],\n",
            "        [-3.7472],\n",
            "        [-3.6244],\n",
            "        [-2.6661],\n",
            "        [-3.7231]], grad_fn=<AddmmBackward0>)\n",
            "tensor([[2.3145],\n",
            "        [3.4335],\n",
            "        [4.5994],\n",
            "        [2.7911],\n",
            "        [5.5964],\n",
            "        [2.4586],\n",
            "        [3.1930],\n",
            "        [1.9071],\n",
            "        [2.9424],\n",
            "        [3.7379]])\n"
          ]
        }
      ]
    },
    {
      "cell_type": "code",
      "metadata": {
        "id": "oFmOuN4XIRkQ"
      },
      "source": [
        "import torch.nn.functional as F"
      ],
      "execution_count": 142,
      "outputs": []
    },
    {
      "cell_type": "code",
      "metadata": {
        "id": "SHmIJh1dIXia"
      },
      "source": [
        "loss_func = F.mse_loss"
      ],
      "execution_count": 143,
      "outputs": []
    },
    {
      "cell_type": "code",
      "metadata": {
        "colab": {
          "base_uri": "https://localhost:8080/"
        },
        "id": "0bs_-P5DIh6Y",
        "outputId": "d80660de-6100-488a-b781-131805b2ff9a"
      },
      "source": [
        "loss = loss_func(preds,targets)\n",
        "print(loss)\n"
      ],
      "execution_count": 144,
      "outputs": [
        {
          "output_type": "stream",
          "name": "stdout",
          "text": [
            "tensor(50.7812, grad_fn=<MseLossBackward0>)\n"
          ]
        }
      ]
    },
    {
      "cell_type": "code",
      "metadata": {
        "colab": {
          "base_uri": "https://localhost:8080/"
        },
        "id": "DvN3xWLnJxD3",
        "outputId": "93a177e2-4416-4a74-c0e1-cba286fe6cdd"
      },
      "source": [
        "print(loss.backward())"
      ],
      "execution_count": 145,
      "outputs": [
        {
          "output_type": "stream",
          "name": "stdout",
          "text": [
            "None\n"
          ]
        }
      ]
    },
    {
      "cell_type": "code",
      "metadata": {
        "id": "119uWaywIqar"
      },
      "source": [
        "opt = torch.optim.SGD(model.parameters(), lr = 1e-5)"
      ],
      "execution_count": 146,
      "outputs": []
    },
    {
      "cell_type": "code",
      "metadata": {
        "id": "MbfDtq_aJGoK"
      },
      "source": [
        "def train(epochs, model, loss_func, opt, train_dl):\n",
        "  for epoch in range(epochs):\n",
        "    for xy, yx in train_dl:\n",
        "      preds = model(xy)\n",
        "      loss = loss_func(preds,yx)\n",
        "      loss.backward()\n",
        "      opt.step()\n",
        "      opt.zero_grad()\n",
        "    if (epoch % 10 == 0):\n",
        "          print('Epoch [{}/{}], Loss: {:.4f}'.format(epoch, epochs, loss.item()))\n"
      ],
      "execution_count": 147,
      "outputs": []
    },
    {
      "cell_type": "code",
      "metadata": {
        "colab": {
          "base_uri": "https://localhost:8080/"
        },
        "id": "30eaAkh6KQha",
        "outputId": "e3d16b03-8175-463a-8479-c6bc9ff36a1a"
      },
      "source": [
        "train(1000,model,loss_func,opt,train_dl)"
      ],
      "execution_count": 153,
      "outputs": [
        {
          "output_type": "stream",
          "name": "stdout",
          "text": [
            "Epoch [0/1000], Loss: 14.5173\n",
            "Epoch [10/1000], Loss: 22.0635\n",
            "Epoch [20/1000], Loss: 13.4511\n",
            "Epoch [30/1000], Loss: 12.9517\n",
            "Epoch [40/1000], Loss: 14.2163\n",
            "Epoch [50/1000], Loss: 19.0200\n",
            "Epoch [60/1000], Loss: 8.7742\n",
            "Epoch [70/1000], Loss: 20.0649\n",
            "Epoch [80/1000], Loss: 19.3243\n",
            "Epoch [90/1000], Loss: 9.4955\n",
            "Epoch [100/1000], Loss: 17.9465\n",
            "Epoch [110/1000], Loss: 15.1829\n",
            "Epoch [120/1000], Loss: 40.5460\n",
            "Epoch [130/1000], Loss: 14.0566\n",
            "Epoch [140/1000], Loss: 15.4083\n",
            "Epoch [150/1000], Loss: 11.1312\n",
            "Epoch [160/1000], Loss: 24.5003\n",
            "Epoch [170/1000], Loss: 16.1664\n",
            "Epoch [180/1000], Loss: 4.5186\n",
            "Epoch [190/1000], Loss: 4.2523\n",
            "Epoch [200/1000], Loss: 5.9750\n",
            "Epoch [210/1000], Loss: 10.3544\n",
            "Epoch [220/1000], Loss: 9.1718\n",
            "Epoch [230/1000], Loss: 6.0027\n",
            "Epoch [240/1000], Loss: 3.1514\n",
            "Epoch [250/1000], Loss: 7.5534\n",
            "Epoch [260/1000], Loss: 4.6333\n",
            "Epoch [270/1000], Loss: 18.0563\n",
            "Epoch [280/1000], Loss: 7.9651\n",
            "Epoch [290/1000], Loss: 4.7635\n",
            "Epoch [300/1000], Loss: 6.5543\n",
            "Epoch [310/1000], Loss: 16.2063\n",
            "Epoch [320/1000], Loss: 20.5864\n",
            "Epoch [330/1000], Loss: 1.7129\n",
            "Epoch [340/1000], Loss: 6.3093\n",
            "Epoch [350/1000], Loss: 5.6873\n",
            "Epoch [360/1000], Loss: 2.9782\n",
            "Epoch [370/1000], Loss: 1.2716\n",
            "Epoch [380/1000], Loss: 5.4082\n",
            "Epoch [390/1000], Loss: 5.0830\n",
            "Epoch [400/1000], Loss: 4.9489\n",
            "Epoch [410/1000], Loss: 12.4658\n",
            "Epoch [420/1000], Loss: 4.6073\n",
            "Epoch [430/1000], Loss: 5.3384\n",
            "Epoch [440/1000], Loss: 4.4217\n",
            "Epoch [450/1000], Loss: 1.9528\n",
            "Epoch [460/1000], Loss: 1.8611\n",
            "Epoch [470/1000], Loss: 1.7697\n",
            "Epoch [480/1000], Loss: 6.0517\n",
            "Epoch [490/1000], Loss: 4.0038\n",
            "Epoch [500/1000], Loss: 3.8403\n",
            "Epoch [510/1000], Loss: 1.9415\n",
            "Epoch [520/1000], Loss: 1.8624\n",
            "Epoch [530/1000], Loss: 5.1813\n",
            "Epoch [540/1000], Loss: 0.2162\n",
            "Epoch [550/1000], Loss: 0.1863\n",
            "Epoch [560/1000], Loss: 1.1176\n",
            "Epoch [570/1000], Loss: 2.8916\n",
            "Epoch [580/1000], Loss: 2.4030\n",
            "Epoch [590/1000], Loss: 7.9574\n",
            "Epoch [600/1000], Loss: 3.5589\n",
            "Epoch [610/1000], Loss: 0.0586\n",
            "Epoch [620/1000], Loss: 2.7317\n",
            "Epoch [630/1000], Loss: 2.2472\n",
            "Epoch [640/1000], Loss: 0.0238\n",
            "Epoch [650/1000], Loss: 3.5866\n",
            "Epoch [660/1000], Loss: 0.6359\n",
            "Epoch [670/1000], Loss: 6.3269\n",
            "Epoch [680/1000], Loss: 6.4546\n",
            "Epoch [690/1000], Loss: 2.9175\n",
            "Epoch [700/1000], Loss: 2.2361\n",
            "Epoch [710/1000], Loss: 1.6006\n",
            "Epoch [720/1000], Loss: 0.4433\n",
            "Epoch [730/1000], Loss: 0.0057\n",
            "Epoch [740/1000], Loss: 0.6995\n",
            "Epoch [750/1000], Loss: 1.9895\n",
            "Epoch [760/1000], Loss: 0.6371\n",
            "Epoch [770/1000], Loss: 1.0577\n",
            "Epoch [780/1000], Loss: 1.1856\n",
            "Epoch [790/1000], Loss: 0.9698\n",
            "Epoch [800/1000], Loss: 2.3406\n",
            "Epoch [810/1000], Loss: 2.2622\n",
            "Epoch [820/1000], Loss: 1.6918\n",
            "Epoch [830/1000], Loss: 0.2108\n",
            "Epoch [840/1000], Loss: 3.6506\n",
            "Epoch [850/1000], Loss: 2.0218\n",
            "Epoch [860/1000], Loss: 0.1659\n",
            "Epoch [870/1000], Loss: 2.0506\n",
            "Epoch [880/1000], Loss: 0.1497\n",
            "Epoch [890/1000], Loss: 0.7220\n",
            "Epoch [900/1000], Loss: 4.1085\n",
            "Epoch [910/1000], Loss: 0.1947\n",
            "Epoch [920/1000], Loss: 0.5277\n",
            "Epoch [930/1000], Loss: 1.8423\n",
            "Epoch [940/1000], Loss: 1.5792\n",
            "Epoch [950/1000], Loss: 1.7816\n",
            "Epoch [960/1000], Loss: 0.5168\n",
            "Epoch [970/1000], Loss: 1.7214\n",
            "Epoch [980/1000], Loss: 0.2073\n",
            "Epoch [990/1000], Loss: 2.2585\n"
          ]
        }
      ]
    },
    {
      "cell_type": "code",
      "metadata": {
        "colab": {
          "base_uri": "https://localhost:8080/"
        },
        "id": "NOBxMLAfKrH4",
        "outputId": "4efcb0f2-b337-4974-c195-a3d0d32c33b2"
      },
      "source": [
        "preds = model(inputs)\n",
        "preds"
      ],
      "execution_count": 154,
      "outputs": [
        {
          "output_type": "execute_result",
          "data": {
            "text/plain": [
              "tensor([[2.1082],\n",
              "        [2.7808],\n",
              "        [2.7474],\n",
              "        [1.7177],\n",
              "        [4.1162],\n",
              "        [2.0280],\n",
              "        [2.5972],\n",
              "        [2.4909],\n",
              "        [1.6618],\n",
              "        [2.5763]], grad_fn=<AddmmBackward0>)"
            ]
          },
          "metadata": {},
          "execution_count": 154
        }
      ]
    },
    {
      "cell_type": "code",
      "metadata": {
        "colab": {
          "base_uri": "https://localhost:8080/"
        },
        "id": "4vh0QwVWKuga",
        "outputId": "eb20faa1-2380-4131-885d-d75c379fa160"
      },
      "source": [
        "targets"
      ],
      "execution_count": 155,
      "outputs": [
        {
          "output_type": "execute_result",
          "data": {
            "text/plain": [
              "tensor([[2.3145],\n",
              "        [3.4335],\n",
              "        [4.5994],\n",
              "        [2.7911],\n",
              "        [5.5964],\n",
              "        [2.4586],\n",
              "        [3.1930],\n",
              "        [1.9071],\n",
              "        [2.9424],\n",
              "        [3.7379]])"
            ]
          },
          "metadata": {},
          "execution_count": 155
        }
      ]
    },
    {
      "cell_type": "code",
      "metadata": {
        "colab": {
          "base_uri": "https://localhost:8080/"
        },
        "id": "eZEwQZ3bMP5M",
        "outputId": "b971b654-827d-4491-8635-e0425ae57b0f"
      },
      "source": [
        "model(torch.tensor([[7.19640925107524]]))"
      ],
      "execution_count": 158,
      "outputs": [
        {
          "output_type": "execute_result",
          "data": {
            "text/plain": [
              "tensor([[4.1162]], grad_fn=<AddmmBackward0>)"
            ]
          },
          "metadata": {},
          "execution_count": 158
        }
      ]
    }
  ]
}