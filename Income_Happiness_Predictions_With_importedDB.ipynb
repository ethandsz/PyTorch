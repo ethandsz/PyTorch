{
  "nbformat": 4,
  "nbformat_minor": 0,
  "metadata": {
    "colab": {
      "name": "Income-Happiness Predictions.ipynb",
      "provenance": [],
      "authorship_tag": "ABX9TyOjg8r1Ozz717teXSUtfcxa",
      "include_colab_link": true
    },
    "kernelspec": {
      "name": "python3",
      "display_name": "Python 3"
    },
    "language_info": {
      "name": "python"
    }
  },
  "cells": [
    {
      "cell_type": "markdown",
      "metadata": {
        "id": "view-in-github",
        "colab_type": "text"
      },
      "source": [
        "<a href=\"https://colab.research.google.com/github/ethandsz/PyTorch/blob/main/Income_Happiness_Predictions_With_importedDB.ipynb\" target=\"_parent\"><img src=\"https://colab.research.google.com/assets/colab-badge.svg\" alt=\"Open In Colab\"/></a>"
      ]
    },
    {
      "cell_type": "code",
      "metadata": {
        "id": "hMWhiploDDdM"
      },
      "source": [
        "import numpy as np\n",
        "import torch\n",
        "import pandas as pd"
      ],
      "execution_count": null,
      "outputs": []
    },
    {
      "cell_type": "code",
      "metadata": {
        "colab": {
          "resources": {
            "http://localhost:8080/nbextensions/google.colab/files.js": {
              "data": "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",
              "ok": true,
              "headers": [
                [
                  "content-type",
                  "application/javascript"
                ]
              ],
              "status": 200,
              "status_text": ""
            }
          },
          "base_uri": "https://localhost:8080/",
          "height": 73
        },
        "id": "M6CD3lzBs_ES",
        "outputId": "8280958f-95a7-4116-d725-75e7f53c758b"
      },
      "source": [
        "from google.colab import files\n",
        "uploaded = files.upload()"
      ],
      "execution_count": null,
      "outputs": [
        {
          "output_type": "display_data",
          "data": {
            "text/html": [
              "\n",
              "     <input type=\"file\" id=\"files-947d1ab7-2d9f-4390-bcbf-8106c9b4bf61\" name=\"files[]\" multiple disabled\n",
              "        style=\"border:none\" />\n",
              "     <output id=\"result-947d1ab7-2d9f-4390-bcbf-8106c9b4bf61\">\n",
              "      Upload widget is only available when the cell has been executed in the\n",
              "      current browser session. Please rerun this cell to enable.\n",
              "      </output>\n",
              "      <script src=\"/nbextensions/google.colab/files.js\"></script> "
            ],
            "text/plain": [
              "<IPython.core.display.HTML object>"
            ]
          },
          "metadata": {}
        },
        {
          "output_type": "stream",
          "name": "stdout",
          "text": [
            "Saving i - Sheet1.csv to i - Sheet1.csv\n"
          ]
        }
      ]
    },
    {
      "cell_type": "code",
      "metadata": {
        "colab": {
          "resources": {
            "http://localhost:8080/nbextensions/google.colab/files.js": {
              "data": "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",
              "ok": true,
              "headers": [
                [
                  "content-type",
                  "application/javascript"
                ]
              ],
              "status": 200,
              "status_text": ""
            }
          },
          "base_uri": "https://localhost:8080/",
          "height": 73
        },
        "id": "VOOM1i25xNxg",
        "outputId": "14fda6c9-9c07-4ff3-fa7e-15c268e3841e"
      },
      "source": [
        "from google.colab import files\n",
        "uploaded = files.upload()"
      ],
      "execution_count": null,
      "outputs": [
        {
          "output_type": "display_data",
          "data": {
            "text/html": [
              "\n",
              "     <input type=\"file\" id=\"files-5fc193f6-3c0a-49b9-8258-b23b7a1c8896\" name=\"files[]\" multiple disabled\n",
              "        style=\"border:none\" />\n",
              "     <output id=\"result-5fc193f6-3c0a-49b9-8258-b23b7a1c8896\">\n",
              "      Upload widget is only available when the cell has been executed in the\n",
              "      current browser session. Please rerun this cell to enable.\n",
              "      </output>\n",
              "      <script src=\"/nbextensions/google.colab/files.js\"></script> "
            ],
            "text/plain": [
              "<IPython.core.display.HTML object>"
            ]
          },
          "metadata": {}
        },
        {
          "output_type": "stream",
          "name": "stdout",
          "text": [
            "Saving Income - Sheet1.csv to Income - Sheet1.csv\n"
          ]
        }
      ]
    },
    {
      "cell_type": "code",
      "metadata": {
        "id": "XNb5Q3PLECSw",
        "colab": {
          "base_uri": "https://localhost:8080/"
        },
        "outputId": "532b0d58-c8e7-4847-d871-7e2afc252527"
      },
      "source": [
        "inc = pd.read_csv('i - Sheet1.csv')\n",
        "income = torch.tensor(inc.values, dtype = torch.float32)\n",
        "hap = pd.read_csv('Happiness - Sheet1.csv')\n",
        "happiness = torch.tensor(hap.values, dtype = torch.float32)\n",
        "inputs = np.array([[3.86264741839841], [4.97938138246536],\n",
        "                  [4.9239569362253],[3.21437243884429],\n",
        "                  [7.19640925107524], [3.72964347945526],\n",
        "                  [4.67451738892123], [4.49810382071882],\n",
        "                  [3.12163052614778], [4.6399144353345]],\n",
        "                  dtype = \"float32\")\n",
        "targets = np.array([[2.31448898284741], [3.43348975853174],\n",
        "                   [4.59937340433575], [2.79111380280692],\n",
        "                    [5.59639827336202], [2.45855587216119],\n",
        "                    [3.19299180946247],[1.90713683309599],\n",
        "                    [2.94244987165905], [3.73794160485342]],\n",
        "                   dtype = \"float32\")\n",
        "inputs = torch.from_numpy(inputs)\n",
        "targets = torch.from_numpy(targets)\n",
        "print(happiness)"
      ],
      "execution_count": null,
      "outputs": [
        {
          "output_type": "stream",
          "name": "stdout",
          "text": [
            "tensor([[2.3145],\n",
            "        [3.4335],\n",
            "        [4.5994],\n",
            "        [2.7911],\n",
            "        [5.5964],\n",
            "        [2.4586],\n",
            "        [3.1930],\n",
            "        [1.9071],\n",
            "        [2.9424],\n",
            "        [3.7379],\n",
            "        [3.1754],\n",
            "        [2.0090],\n",
            "        [5.9518],\n",
            "        [5.9605],\n",
            "        [1.4458],\n",
            "        [2.8986],\n",
            "        [1.2312],\n",
            "        [2.3130],\n",
            "        [2.6661],\n",
            "        [2.5847],\n",
            "        [5.7474],\n",
            "        [2.5465],\n",
            "        [1.2008],\n",
            "        [3.0783],\n",
            "        [4.3178],\n",
            "        [5.3815],\n",
            "        [3.5652],\n",
            "        [0.9534],\n",
            "        [2.1692],\n",
            "        [2.0608],\n",
            "        [6.2991],\n",
            "        [1.5904],\n",
            "        [2.2509],\n",
            "        [5.9142],\n",
            "        [2.1918],\n",
            "        [5.7678],\n",
            "        [0.9729],\n",
            "        [5.0106],\n",
            "        [2.2397],\n",
            "        [1.9276],\n",
            "        [3.3581],\n",
            "        [2.4001],\n",
            "        [3.4080],\n",
            "        [2.5762],\n",
            "        [2.4731],\n",
            "        [3.7527],\n",
            "        [4.0876],\n",
            "        [3.5432],\n",
            "        [5.3484],\n",
            "        [3.0564],\n",
            "        [1.5584],\n",
            "        [3.2251],\n",
            "        [5.0342],\n",
            "        [3.8574],\n",
            "        [3.6191],\n",
            "        [4.0045],\n",
            "        [4.8021],\n",
            "        [4.6589],\n",
            "        [5.2317],\n",
            "        [2.4806],\n",
            "        [5.4981],\n",
            "        [4.5506],\n",
            "        [3.5700],\n",
            "        [4.7197],\n",
            "        [4.5031],\n",
            "        [5.0461],\n",
            "        [0.6697],\n",
            "        [1.6061],\n",
            "        [4.8266],\n",
            "        [2.2082],\n",
            "        [4.0565],\n",
            "        [3.5679],\n",
            "        [1.3085],\n",
            "        [4.1596],\n",
            "        [4.6339],\n",
            "        [5.0687],\n",
            "        [3.0408],\n",
            "        [3.8043],\n",
            "        [5.0340],\n",
            "        [3.7034],\n",
            "        [2.1889],\n",
            "        [5.5380],\n",
            "        [3.5839],\n",
            "        [3.0969],\n",
            "        [2.2010],\n",
            "        [5.1516],\n",
            "        [5.9510],\n",
            "        [2.9682],\n",
            "        [2.3996],\n",
            "        [0.8595],\n",
            "        [1.7759],\n",
            "        [4.6613],\n",
            "        [0.7272],\n",
            "        [0.7713],\n",
            "        [3.3488],\n",
            "        [3.9662],\n",
            "        [2.8904],\n",
            "        [3.7733],\n",
            "        [6.3596],\n",
            "        [0.2687],\n",
            "        [4.3748],\n",
            "        [2.1558],\n",
            "        [1.8936],\n",
            "        [4.9030],\n",
            "        [4.8335],\n",
            "        [3.1723],\n",
            "        [5.0300],\n",
            "        [4.2610],\n",
            "        [1.6724],\n",
            "        [1.4970],\n",
            "        [1.2655],\n",
            "        [2.6675],\n",
            "        [1.9993],\n",
            "        [5.2319],\n",
            "        [5.2114],\n",
            "        [3.6617],\n",
            "        [1.4150],\n",
            "        [4.9330],\n",
            "        [4.1308],\n",
            "        [2.2823],\n",
            "        [3.9012],\n",
            "        [4.6920],\n",
            "        [3.5778],\n",
            "        [5.5625],\n",
            "        [2.3932],\n",
            "        [3.5647],\n",
            "        [2.2537],\n",
            "        [4.1216],\n",
            "        [4.1691],\n",
            "        [3.8239],\n",
            "        [0.4584],\n",
            "        [2.5769],\n",
            "        [2.9475],\n",
            "        [3.7400],\n",
            "        [3.5714],\n",
            "        [4.8082],\n",
            "        [4.0176],\n",
            "        [1.8398],\n",
            "        [3.4686],\n",
            "        [4.7588],\n",
            "        [2.3917],\n",
            "        [0.9929],\n",
            "        [3.1694],\n",
            "        [2.0890],\n",
            "        [1.8437],\n",
            "        [1.6166],\n",
            "        [5.9493],\n",
            "        [4.9402],\n",
            "        [2.8412],\n",
            "        [2.9444],\n",
            "        [3.0269],\n",
            "        [5.0978],\n",
            "        [3.0368],\n",
            "        [4.6828],\n",
            "        [4.0008],\n",
            "        [4.5708],\n",
            "        [2.0427],\n",
            "        [1.7487],\n",
            "        [6.0640],\n",
            "        [5.1324],\n",
            "        [3.1133],\n",
            "        [4.8218],\n",
            "        [4.1795],\n",
            "        [1.6313],\n",
            "        [3.8222],\n",
            "        [1.8575],\n",
            "        [3.7511],\n",
            "        [3.1586],\n",
            "        [4.9271],\n",
            "        [4.6001],\n",
            "        [2.4084],\n",
            "        [4.4867],\n",
            "        [2.7277],\n",
            "        [3.0207],\n",
            "        [3.7492],\n",
            "        [2.3116],\n",
            "        [0.9876],\n",
            "        [1.4611],\n",
            "        [4.5769],\n",
            "        [4.7676],\n",
            "        [0.4382],\n",
            "        [2.3512],\n",
            "        [3.4531],\n",
            "        [5.3814],\n",
            "        [4.8201],\n",
            "        [4.6587],\n",
            "        [5.3801],\n",
            "        [3.3160],\n",
            "        [2.7997],\n",
            "        [4.2068],\n",
            "        [4.4027],\n",
            "        [2.7691],\n",
            "        [2.7842],\n",
            "        [0.6881],\n",
            "        [3.4765],\n",
            "        [5.8362],\n",
            "        [2.0039],\n",
            "        [0.9713],\n",
            "        [2.8576],\n",
            "        [1.8521],\n",
            "        [3.5152],\n",
            "        [2.1006],\n",
            "        [6.0865],\n",
            "        [4.0838],\n",
            "        [1.5248],\n",
            "        [2.5795],\n",
            "        [1.6192],\n",
            "        [5.5066],\n",
            "        [1.0960],\n",
            "        [0.9685],\n",
            "        [4.8777],\n",
            "        [1.7597],\n",
            "        [5.0322],\n",
            "        [5.7138],\n",
            "        [4.7958],\n",
            "        [4.6603],\n",
            "        [2.7404],\n",
            "        [4.2506],\n",
            "        [3.9410],\n",
            "        [4.5034],\n",
            "        [4.6332],\n",
            "        [4.0309],\n",
            "        [6.8634],\n",
            "        [5.0795],\n",
            "        [1.6253],\n",
            "        [6.6183],\n",
            "        [4.6570],\n",
            "        [6.0050],\n",
            "        [2.4106],\n",
            "        [4.2612],\n",
            "        [1.0656],\n",
            "        [2.2957],\n",
            "        [1.9195],\n",
            "        [3.5814],\n",
            "        [0.6289],\n",
            "        [3.3441],\n",
            "        [6.1604],\n",
            "        [2.8613],\n",
            "        [4.2095],\n",
            "        [1.2263],\n",
            "        [4.7933],\n",
            "        [3.3138],\n",
            "        [2.1527],\n",
            "        [2.9237],\n",
            "        [3.4521],\n",
            "        [4.2583],\n",
            "        [3.9610],\n",
            "        [3.4277],\n",
            "        [4.7210],\n",
            "        [1.5719],\n",
            "        [6.1869],\n",
            "        [3.5527],\n",
            "        [1.2458],\n",
            "        [3.4269],\n",
            "        [1.8771],\n",
            "        [1.8179],\n",
            "        [5.2399],\n",
            "        [1.3840],\n",
            "        [3.8380],\n",
            "        [2.3217],\n",
            "        [3.3116],\n",
            "        [3.0574],\n",
            "        [4.7370],\n",
            "        [4.5910],\n",
            "        [0.6542],\n",
            "        [3.9811],\n",
            "        [2.3363],\n",
            "        [4.5406],\n",
            "        [2.1927],\n",
            "        [1.7882],\n",
            "        [2.7194],\n",
            "        [4.2127],\n",
            "        [4.4773],\n",
            "        [2.4689],\n",
            "        [3.4518],\n",
            "        [0.6869],\n",
            "        [2.2467],\n",
            "        [1.6277],\n",
            "        [2.4532],\n",
            "        [4.1099],\n",
            "        [2.5726],\n",
            "        [4.8104],\n",
            "        [4.8274],\n",
            "        [2.4658],\n",
            "        [3.7574],\n",
            "        [3.6913],\n",
            "        [1.9818],\n",
            "        [1.4102],\n",
            "        [3.7543],\n",
            "        [4.2452],\n",
            "        [1.4379],\n",
            "        [4.1599],\n",
            "        [3.5149],\n",
            "        [2.7145],\n",
            "        [1.3574],\n",
            "        [5.6385],\n",
            "        [2.4215],\n",
            "        [1.5112],\n",
            "        [5.5229],\n",
            "        [4.3966],\n",
            "        [3.9885],\n",
            "        [3.3176],\n",
            "        [2.7797],\n",
            "        [0.8465],\n",
            "        [2.4579],\n",
            "        [3.5096],\n",
            "        [2.6469],\n",
            "        [2.9779],\n",
            "        [1.4245],\n",
            "        [1.7903],\n",
            "        [1.6446],\n",
            "        [0.7316],\n",
            "        [2.9018],\n",
            "        [4.3171],\n",
            "        [2.0974],\n",
            "        [4.3916],\n",
            "        [5.3140],\n",
            "        [6.2814],\n",
            "        [5.6080],\n",
            "        [2.9469],\n",
            "        [3.8728],\n",
            "        [2.8429],\n",
            "        [1.4606],\n",
            "        [3.7528],\n",
            "        [3.1266],\n",
            "        [2.8212],\n",
            "        [2.7350],\n",
            "        [2.1976],\n",
            "        [4.1555],\n",
            "        [4.0782],\n",
            "        [4.4570],\n",
            "        [4.9393],\n",
            "        [3.7306],\n",
            "        [2.5751],\n",
            "        [2.1763],\n",
            "        [6.2370],\n",
            "        [0.8987],\n",
            "        [3.6294],\n",
            "        [5.9233],\n",
            "        [0.5462],\n",
            "        [3.0315],\n",
            "        [2.8478],\n",
            "        [4.5170],\n",
            "        [4.5917],\n",
            "        [3.1578],\n",
            "        [4.2880],\n",
            "        [3.6188],\n",
            "        [3.2008],\n",
            "        [3.9997],\n",
            "        [1.6623],\n",
            "        [2.3916],\n",
            "        [3.0676],\n",
            "        [2.0175],\n",
            "        [3.6409],\n",
            "        [0.2660],\n",
            "        [1.2954],\n",
            "        [1.8533],\n",
            "        [5.3672],\n",
            "        [2.4663],\n",
            "        [1.7236],\n",
            "        [4.3073],\n",
            "        [3.1564],\n",
            "        [1.6905],\n",
            "        [5.0855],\n",
            "        [2.4816],\n",
            "        [1.3533],\n",
            "        [5.2753],\n",
            "        [3.6703],\n",
            "        [3.6964],\n",
            "        [2.6799],\n",
            "        [2.3636],\n",
            "        [1.4386],\n",
            "        [5.3624],\n",
            "        [2.3253],\n",
            "        [1.5296],\n",
            "        [4.0357],\n",
            "        [3.5503],\n",
            "        [3.5546],\n",
            "        [4.1997],\n",
            "        [3.1355],\n",
            "        [1.1453],\n",
            "        [3.5399],\n",
            "        [3.8222],\n",
            "        [3.8356],\n",
            "        [5.6838],\n",
            "        [2.5174],\n",
            "        [4.3247],\n",
            "        [2.9587],\n",
            "        [1.6810],\n",
            "        [4.2535],\n",
            "        [2.2604],\n",
            "        [3.6155],\n",
            "        [1.5022],\n",
            "        [3.7765],\n",
            "        [3.2010],\n",
            "        [4.0583],\n",
            "        [4.1052],\n",
            "        [3.7221],\n",
            "        [3.8223],\n",
            "        [3.7067],\n",
            "        [4.9097],\n",
            "        [2.1557],\n",
            "        [5.7437],\n",
            "        [4.3376],\n",
            "        [2.5824],\n",
            "        [4.2843],\n",
            "        [2.9622],\n",
            "        [3.9904],\n",
            "        [5.8901],\n",
            "        [3.6885],\n",
            "        [3.2178],\n",
            "        [2.2205],\n",
            "        [5.9103],\n",
            "        [4.8530],\n",
            "        [3.8030],\n",
            "        [3.0922],\n",
            "        [3.2333],\n",
            "        [5.2655],\n",
            "        [4.8115],\n",
            "        [5.3680],\n",
            "        [1.7987],\n",
            "        [4.7600],\n",
            "        [3.4158],\n",
            "        [5.0402],\n",
            "        [1.9656],\n",
            "        [1.8720],\n",
            "        [5.3235],\n",
            "        [4.5012],\n",
            "        [2.4351],\n",
            "        [4.5532],\n",
            "        [4.3617],\n",
            "        [1.4788],\n",
            "        [2.7685],\n",
            "        [3.9606],\n",
            "        [5.9158],\n",
            "        [3.9802],\n",
            "        [4.7082],\n",
            "        [1.4167],\n",
            "        [4.3284],\n",
            "        [6.1963],\n",
            "        [1.9460],\n",
            "        [0.6985],\n",
            "        [5.1355],\n",
            "        [1.5604],\n",
            "        [4.2350],\n",
            "        [0.6889],\n",
            "        [0.6858],\n",
            "        [1.7918],\n",
            "        [3.2275],\n",
            "        [5.1593],\n",
            "        [3.8030],\n",
            "        [4.2161],\n",
            "        [4.9324],\n",
            "        [2.2334],\n",
            "        [4.3783],\n",
            "        [3.4839],\n",
            "        [2.0303],\n",
            "        [3.5964],\n",
            "        [3.2612],\n",
            "        [3.4811],\n",
            "        [3.3934],\n",
            "        [4.2297],\n",
            "        [4.3214],\n",
            "        [4.4005],\n",
            "        [3.3576],\n",
            "        [5.3357],\n",
            "        [5.5884],\n",
            "        [2.9942],\n",
            "        [2.4134],\n",
            "        [4.9854],\n",
            "        [4.9820],\n",
            "        [6.3843],\n",
            "        [3.2675],\n",
            "        [1.3128],\n",
            "        [4.0395],\n",
            "        [4.4260],\n",
            "        [3.3427],\n",
            "        [3.4923],\n",
            "        [3.7512],\n",
            "        [5.3866],\n",
            "        [5.9634],\n",
            "        [4.9853],\n",
            "        [2.7982],\n",
            "        [2.9673],\n",
            "        [1.2288],\n",
            "        [3.9617],\n",
            "        [4.6491],\n",
            "        [4.7542],\n",
            "        [2.9620],\n",
            "        [4.6334],\n",
            "        [1.2941],\n",
            "        [0.5484],\n",
            "        [2.1151],\n",
            "        [4.5687],\n",
            "        [2.5350],\n",
            "        [4.3975],\n",
            "        [2.0707],\n",
            "        [3.7102]])\n"
          ]
        }
      ]
    },
    {
      "cell_type": "code",
      "metadata": {
        "id": "TIMB_XJzFtw7"
      },
      "source": [
        "from torch.utils.data import TensorDataset"
      ],
      "execution_count": null,
      "outputs": []
    },
    {
      "cell_type": "code",
      "metadata": {
        "colab": {
          "base_uri": "https://localhost:8080/"
        },
        "id": "LwuQhgolFyoE",
        "outputId": "5ea5266e-6fff-4987-e32c-629552c89dff"
      },
      "source": [
        "train_ds = TensorDataset(income, happiness)\n",
        "train_ds[0:3]"
      ],
      "execution_count": null,
      "outputs": [
        {
          "output_type": "execute_result",
          "data": {
            "text/plain": [
              "(tensor([[3.8626],\n",
              "         [4.9794],\n",
              "         [4.9240]]), tensor([[2.3145],\n",
              "         [3.4335],\n",
              "         [4.5994]]))"
            ]
          },
          "metadata": {},
          "execution_count": 92
        }
      ]
    },
    {
      "cell_type": "code",
      "metadata": {
        "id": "bpeVSLEAGBcv"
      },
      "source": [
        "from torch.utils.data import DataLoader"
      ],
      "execution_count": null,
      "outputs": []
    },
    {
      "cell_type": "code",
      "metadata": {
        "id": "t7k62IjwGF3U"
      },
      "source": [
        "batch_size = 5\n",
        "train_dl = DataLoader(train_ds, batch_size, shuffle = True)"
      ],
      "execution_count": null,
      "outputs": []
    },
    {
      "cell_type": "code",
      "metadata": {
        "colab": {
          "base_uri": "https://localhost:8080/"
        },
        "id": "9dpWF0PxGk2C",
        "outputId": "6ec9e775-e11a-4a76-d34f-46c9fe60fb92"
      },
      "source": [
        "for xy, yx in train_dl:\n",
        "  print(xy)\n",
        "  print(yx)\n",
        "  break"
      ],
      "execution_count": null,
      "outputs": [
        {
          "output_type": "stream",
          "name": "stdout",
          "text": [
            "tensor([[1.8245],\n",
            "        [4.7557],\n",
            "        [3.1540],\n",
            "        [3.0355],\n",
            "        [2.3814]])\n",
            "tensor([[0.2660],\n",
            "        [2.6661],\n",
            "        [1.2941],\n",
            "        [2.2604],\n",
            "        [2.1763]])\n"
          ]
        }
      ]
    },
    {
      "cell_type": "code",
      "metadata": {
        "id": "c7H4I85LHaao"
      },
      "source": [
        "import torch.nn as nn"
      ],
      "execution_count": null,
      "outputs": []
    },
    {
      "cell_type": "code",
      "metadata": {
        "colab": {
          "base_uri": "https://localhost:8080/"
        },
        "id": "1NVggITCHSpJ",
        "outputId": "b5395394-6a3c-45dd-97ca-3e7de3731ca3"
      },
      "source": [
        "model = nn.Linear(1,1)\n",
        "list(model.parameters())"
      ],
      "execution_count": null,
      "outputs": [
        {
          "output_type": "execute_result",
          "data": {
            "text/plain": [
              "[Parameter containing:\n",
              " tensor([[-0.2941]], requires_grad=True), Parameter containing:\n",
              " tensor([0.1727], requires_grad=True)]"
            ]
          },
          "metadata": {},
          "execution_count": 97
        }
      ]
    },
    {
      "cell_type": "code",
      "metadata": {
        "colab": {
          "base_uri": "https://localhost:8080/"
        },
        "id": "bTvQ5Q7GHpan",
        "outputId": "725f1f20-9488-44fa-de0c-1e92feb5c19e"
      },
      "source": [
        "preds = model(inputs)\n",
        "print(preds)\n",
        "print(targets)"
      ],
      "execution_count": null,
      "outputs": [
        {
          "output_type": "stream",
          "name": "stdout",
          "text": [
            "tensor([[-0.9635],\n",
            "        [-1.2920],\n",
            "        [-1.2757],\n",
            "        [-0.7728],\n",
            "        [-1.9441],\n",
            "        [-0.9244],\n",
            "        [-1.2023],\n",
            "        [-1.1504],\n",
            "        [-0.7455],\n",
            "        [-1.1921]], grad_fn=<AddmmBackward0>)\n",
            "tensor([[2.3145],\n",
            "        [3.4335],\n",
            "        [4.5994],\n",
            "        [2.7911],\n",
            "        [5.5964],\n",
            "        [2.4586],\n",
            "        [3.1930],\n",
            "        [1.9071],\n",
            "        [2.9424],\n",
            "        [3.7379]])\n"
          ]
        }
      ]
    },
    {
      "cell_type": "code",
      "metadata": {
        "id": "oFmOuN4XIRkQ"
      },
      "source": [
        "import torch.nn.functional as F"
      ],
      "execution_count": null,
      "outputs": []
    },
    {
      "cell_type": "code",
      "metadata": {
        "id": "SHmIJh1dIXia"
      },
      "source": [
        "loss_func = F.mse_loss"
      ],
      "execution_count": null,
      "outputs": []
    },
    {
      "cell_type": "code",
      "metadata": {
        "colab": {
          "base_uri": "https://localhost:8080/"
        },
        "id": "0bs_-P5DIh6Y",
        "outputId": "6025c000-2411-476d-f693-f23f92a9372e"
      },
      "source": [
        "loss = loss_func(preds,targets)\n",
        "print(loss)\n"
      ],
      "execution_count": null,
      "outputs": [
        {
          "output_type": "stream",
          "name": "stdout",
          "text": [
            "tensor(21.5169, grad_fn=<MseLossBackward0>)\n"
          ]
        }
      ]
    },
    {
      "cell_type": "code",
      "metadata": {
        "colab": {
          "base_uri": "https://localhost:8080/"
        },
        "id": "DvN3xWLnJxD3",
        "outputId": "9db0a762-4064-45de-afa4-244be1ab2bc6"
      },
      "source": [
        "print(loss.backward())"
      ],
      "execution_count": null,
      "outputs": [
        {
          "output_type": "stream",
          "name": "stdout",
          "text": [
            "None\n"
          ]
        }
      ]
    },
    {
      "cell_type": "code",
      "metadata": {
        "id": "119uWaywIqar"
      },
      "source": [
        "opt = torch.optim.SGD(model.parameters(), lr = 1e-5)"
      ],
      "execution_count": null,
      "outputs": []
    },
    {
      "cell_type": "code",
      "metadata": {
        "id": "MbfDtq_aJGoK"
      },
      "source": [
        "def train(epochs, model, loss_func, opt, train_dl):\n",
        "  for epoch in range(epochs):\n",
        "    for xy, yx in train_dl:\n",
        "      preds = model(xy)\n",
        "      loss = loss_func(preds,yx)\n",
        "      loss.backward()\n",
        "      opt.step()\n",
        "      opt.zero_grad()\n",
        "    if (epoch % 10 == 0):\n",
        "          print('Epoch [{}/{}], Loss: {:.4f}'.format(epoch, epochs, loss.item()))\n"
      ],
      "execution_count": null,
      "outputs": []
    },
    {
      "cell_type": "code",
      "metadata": {
        "colab": {
          "base_uri": "https://localhost:8080/"
        },
        "id": "30eaAkh6KQha",
        "outputId": "6c9a23b8-3e11-4b1f-b4b3-14b9f33d177d"
      },
      "source": [
        "train(1000,model,loss_func,opt,train_dl)"
      ],
      "execution_count": null,
      "outputs": [
        {
          "output_type": "stream",
          "name": "stdout",
          "text": [
            "Epoch [0/1000], Loss: 5.2043\n",
            "Epoch [10/1000], Loss: 13.8072\n",
            "Epoch [20/1000], Loss: 4.0792\n",
            "Epoch [30/1000], Loss: 2.6832\n",
            "Epoch [40/1000], Loss: 0.9252\n",
            "Epoch [50/1000], Loss: 1.2320\n",
            "Epoch [60/1000], Loss: 1.9877\n",
            "Epoch [70/1000], Loss: 0.1440\n",
            "Epoch [80/1000], Loss: 0.1288\n",
            "Epoch [90/1000], Loss: 0.0315\n",
            "Epoch [100/1000], Loss: 0.0772\n",
            "Epoch [110/1000], Loss: 0.4968\n",
            "Epoch [120/1000], Loss: 0.0423\n",
            "Epoch [130/1000], Loss: 0.5958\n",
            "Epoch [140/1000], Loss: 0.2089\n",
            "Epoch [150/1000], Loss: 0.3666\n",
            "Epoch [160/1000], Loss: 0.5934\n",
            "Epoch [170/1000], Loss: 0.2149\n",
            "Epoch [180/1000], Loss: 0.2009\n",
            "Epoch [190/1000], Loss: 0.2601\n",
            "Epoch [200/1000], Loss: 0.1499\n",
            "Epoch [210/1000], Loss: 0.0979\n",
            "Epoch [220/1000], Loss: 0.4111\n",
            "Epoch [230/1000], Loss: 0.1094\n",
            "Epoch [240/1000], Loss: 0.3743\n",
            "Epoch [250/1000], Loss: 0.5402\n",
            "Epoch [260/1000], Loss: 0.5238\n",
            "Epoch [270/1000], Loss: 0.1271\n",
            "Epoch [280/1000], Loss: 0.8284\n",
            "Epoch [290/1000], Loss: 0.0257\n",
            "Epoch [300/1000], Loss: 1.8955\n",
            "Epoch [310/1000], Loss: 1.1653\n",
            "Epoch [320/1000], Loss: 0.4699\n",
            "Epoch [330/1000], Loss: 0.5001\n",
            "Epoch [340/1000], Loss: 0.4132\n",
            "Epoch [350/1000], Loss: 0.1586\n",
            "Epoch [360/1000], Loss: 1.7149\n",
            "Epoch [370/1000], Loss: 0.1481\n",
            "Epoch [380/1000], Loss: 0.4993\n",
            "Epoch [390/1000], Loss: 0.2067\n",
            "Epoch [400/1000], Loss: 0.2120\n",
            "Epoch [410/1000], Loss: 0.8149\n",
            "Epoch [420/1000], Loss: 0.0715\n",
            "Epoch [430/1000], Loss: 0.4273\n",
            "Epoch [440/1000], Loss: 0.2714\n",
            "Epoch [450/1000], Loss: 0.7979\n",
            "Epoch [460/1000], Loss: 0.9006\n",
            "Epoch [470/1000], Loss: 0.0413\n",
            "Epoch [480/1000], Loss: 0.0564\n",
            "Epoch [490/1000], Loss: 0.7197\n",
            "Epoch [500/1000], Loss: 0.0123\n",
            "Epoch [510/1000], Loss: 0.8059\n",
            "Epoch [520/1000], Loss: 0.0625\n",
            "Epoch [530/1000], Loss: 0.7616\n",
            "Epoch [540/1000], Loss: 0.0981\n",
            "Epoch [550/1000], Loss: 0.1323\n",
            "Epoch [560/1000], Loss: 0.2984\n",
            "Epoch [570/1000], Loss: 0.3063\n",
            "Epoch [580/1000], Loss: 0.3133\n",
            "Epoch [590/1000], Loss: 1.2594\n",
            "Epoch [600/1000], Loss: 1.4312\n",
            "Epoch [610/1000], Loss: 0.7759\n",
            "Epoch [620/1000], Loss: 0.5435\n",
            "Epoch [630/1000], Loss: 0.4314\n",
            "Epoch [640/1000], Loss: 0.1411\n",
            "Epoch [650/1000], Loss: 0.1068\n",
            "Epoch [660/1000], Loss: 0.1212\n",
            "Epoch [670/1000], Loss: 0.3714\n",
            "Epoch [680/1000], Loss: 0.3703\n",
            "Epoch [690/1000], Loss: 0.2833\n",
            "Epoch [700/1000], Loss: 0.5967\n",
            "Epoch [710/1000], Loss: 0.2087\n",
            "Epoch [720/1000], Loss: 0.4359\n",
            "Epoch [730/1000], Loss: 0.2722\n",
            "Epoch [740/1000], Loss: 0.0297\n",
            "Epoch [750/1000], Loss: 0.3031\n",
            "Epoch [760/1000], Loss: 0.1895\n",
            "Epoch [770/1000], Loss: 0.2657\n",
            "Epoch [780/1000], Loss: 0.3106\n",
            "Epoch [790/1000], Loss: 0.8727\n",
            "Epoch [800/1000], Loss: 0.7011\n",
            "Epoch [810/1000], Loss: 0.5698\n",
            "Epoch [820/1000], Loss: 1.2040\n",
            "Epoch [830/1000], Loss: 0.1233\n",
            "Epoch [840/1000], Loss: 1.6646\n",
            "Epoch [850/1000], Loss: 0.4692\n",
            "Epoch [860/1000], Loss: 0.3906\n",
            "Epoch [870/1000], Loss: 0.2032\n",
            "Epoch [880/1000], Loss: 0.4325\n",
            "Epoch [890/1000], Loss: 1.0975\n",
            "Epoch [900/1000], Loss: 0.1708\n",
            "Epoch [910/1000], Loss: 0.4683\n",
            "Epoch [920/1000], Loss: 0.0553\n",
            "Epoch [930/1000], Loss: 0.8753\n",
            "Epoch [940/1000], Loss: 0.5055\n",
            "Epoch [950/1000], Loss: 1.7725\n",
            "Epoch [960/1000], Loss: 0.4429\n",
            "Epoch [970/1000], Loss: 0.0256\n",
            "Epoch [980/1000], Loss: 0.1875\n",
            "Epoch [990/1000], Loss: 0.3855\n"
          ]
        }
      ]
    },
    {
      "cell_type": "code",
      "metadata": {
        "colab": {
          "base_uri": "https://localhost:8080/"
        },
        "id": "NOBxMLAfKrH4",
        "outputId": "eaf334b1-8636-4b9b-9414-18ae66ad8900"
      },
      "source": [
        "preds = model(inputs)\n",
        "preds"
      ],
      "execution_count": null,
      "outputs": [
        {
          "output_type": "execute_result",
          "data": {
            "text/plain": [
              "tensor([[2.9919],\n",
              "        [3.7621],\n",
              "        [3.7239],\n",
              "        [2.5449],\n",
              "        [5.2910],\n",
              "        [2.9002],\n",
              "        [3.5518],\n",
              "        [3.4302],\n",
              "        [2.4809],\n",
              "        [3.5280]], grad_fn=<AddmmBackward0>)"
            ]
          },
          "metadata": {},
          "execution_count": 106
        }
      ]
    },
    {
      "cell_type": "code",
      "metadata": {
        "colab": {
          "base_uri": "https://localhost:8080/"
        },
        "id": "4vh0QwVWKuga",
        "outputId": "363c71b0-0d31-4872-8dc4-02de8480b19f"
      },
      "source": [
        "targets"
      ],
      "execution_count": null,
      "outputs": [
        {
          "output_type": "execute_result",
          "data": {
            "text/plain": [
              "tensor([[2.3145],\n",
              "        [3.4335],\n",
              "        [4.5994],\n",
              "        [2.7911],\n",
              "        [5.5964],\n",
              "        [2.4586],\n",
              "        [3.1930],\n",
              "        [1.9071],\n",
              "        [2.9424],\n",
              "        [3.7379]])"
            ]
          },
          "metadata": {},
          "execution_count": 107
        }
      ]
    },
    {
      "cell_type": "code",
      "metadata": {
        "colab": {
          "base_uri": "https://localhost:8080/"
        },
        "id": "eZEwQZ3bMP5M",
        "outputId": "3263133d-4fe3-40fa-a523-b53fa4113b02"
      },
      "source": [
        "model(torch.tensor([[7.11947859451175]]))"
      ],
      "execution_count": null,
      "outputs": [
        {
          "output_type": "execute_result",
          "data": {
            "text/plain": [
              "tensor([[5.2380]], grad_fn=<AddmmBackward0>)"
            ]
          },
          "metadata": {},
          "execution_count": 109
        }
      ]
    }
  ]
}